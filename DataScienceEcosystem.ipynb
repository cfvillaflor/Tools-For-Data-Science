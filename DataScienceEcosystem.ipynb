{
 "cells": [
  {
   "cell_type": "markdown",
   "id": "9362ba88-1cb2-4df9-a3bb-64fe10c92c71",
   "metadata": {},
   "source": [
    "# Data Science Tools and Ecosystem"
   ]
  },
  {
   "cell_type": "markdown",
   "id": "774dfcb2-5024-4329-a4c4-01ec36911cfc",
   "metadata": {},
   "source": [
    "In this notebook, Data Science Tools and Ecosystem are summarized."
   ]
  },
  {
   "cell_type": "markdown",
   "id": "ae51a032-c2e3-4bc9-a487-ded174c34200",
   "metadata": {},
   "source": [
    "**Objectives:**\n",
    "\n",
    "- List popular languages for Data Science\n",
    "- Explain how to evaluate arithmetic expressions in Python\n",
    "- Demonstrate how to convert minutes into hours\n",
    "- Describe common open-source tools used in data science\n",
    "- Understand basic operations in Python for data manipulation\n"
   ]
  },
  {
   "cell_type": "markdown",
   "id": "1bfc360b-0836-4fb6-ae7e-d9af9a7b4b8b",
   "metadata": {},
   "source": [
    "Some of the popular languages that Data Scientists use are:\n",
    "1. Python\n",
    "2. R\n",
    "3. SQL"
   ]
  },
  {
   "cell_type": "markdown",
   "id": "795b6d27-2103-4224-82ea-ca6a1948b2a3",
   "metadata": {},
   "source": [
    "Some of the commonly used libraries used by Data Scientists include:\n",
    "1. NumPy\n",
    "2. Pandas\n",
    "3. Matplotlib\n",
    "4. Seaborn\n",
    "5. SciPy"
   ]
  },
  {
   "cell_type": "markdown",
   "id": "2a8b1f39-68cd-4314-8d0c-be9081caf085",
   "metadata": {},
   "source": [
    "| Data Science Tools |\n",
    "|--------------------|\n",
    "| Jupyter Notebook   |\n",
    "| RStudio            |\n",
    "| Apache Zeppelin    |\n"
   ]
  },
  {
   "cell_type": "markdown",
   "id": "25698dd4-c26a-4359-9b51-ac1ce663fb30",
   "metadata": {},
   "source": [
    "### Below are a few examples of evaluating arithmetic expressions in Python.\n"
   ]
  },
  {
   "cell_type": "markdown",
   "id": "103a0c6f-3a7d-4897-960d-8a733c495333",
   "metadata": {},
   "source": [
    "<!-- This is a simple arithmetic expression to multiply then add integers. -->"
   ]
  },
  {
   "cell_type": "code",
   "execution_count": 5,
   "id": "55405803-99eb-47b5-b46d-9a7e525bb5c8",
   "metadata": {
    "tags": []
   },
   "outputs": [
    {
     "data": {
      "text/plain": [
       "17"
      ]
     },
     "execution_count": 5,
     "metadata": {},
     "output_type": "execute_result"
    }
   ],
   "source": [
    "(3*4)+5"
   ]
  },
  {
   "cell_type": "markdown",
   "id": "e93bf107-8c90-421e-9b0e-5161e7f0b4da",
   "metadata": {},
   "source": [
    "<!--This will convert 200 minutes to hours by diving by 60 -->"
   ]
  },
  {
   "cell_type": "code",
   "execution_count": 9,
   "id": "f7203267-101c-4291-a1b8-d13ac7986501",
   "metadata": {
    "tags": []
   },
   "outputs": [
    {
     "data": {
      "text/plain": [
       "3.3333333333333335"
      ]
     },
     "execution_count": 9,
     "metadata": {},
     "output_type": "execute_result"
    }
   ],
   "source": [
    "200/60"
   ]
  },
  {
   "cell_type": "markdown",
   "id": "e8e130e1-15fe-407e-8d2b-f91ad48f71cb",
   "metadata": {},
   "source": [
    "## Author\n",
    "\n",
    "Catherine Villaflor\n"
   ]
  },
  {
   "cell_type": "code",
   "execution_count": null,
   "id": "8cd71ada-8a8c-473b-8438-285946b63c89",
   "metadata": {},
   "outputs": [],
   "source": []
  }
 ],
 "metadata": {
  "kernelspec": {
   "display_name": "Python",
   "language": "python",
   "name": "conda-env-python-py"
  },
  "language_info": {
   "codemirror_mode": {
    "name": "ipython",
    "version": 3
   },
   "file_extension": ".py",
   "mimetype": "text/x-python",
   "name": "python",
   "nbconvert_exporter": "python",
   "pygments_lexer": "ipython3",
   "version": "3.7.12"
  }
 },
 "nbformat": 4,
 "nbformat_minor": 5
}
